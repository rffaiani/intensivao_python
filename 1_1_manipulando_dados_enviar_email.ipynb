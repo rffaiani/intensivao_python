{
  "nbformat": 4,
  "nbformat_minor": 0,
  "metadata": {
    "colab": {
      "name": "1.1_manipulando_dados_enviar_email.ipynb",
      "provenance": [],
      "collapsed_sections": []
    },
    "kernelspec": {
      "name": "python3",
      "display_name": "Python 3"
    }
  },
  "cells": [
    {
      "cell_type": "code",
      "metadata": {
        "id": "ihRm4-o_mzF1"
      },
      "source": [
        "#Intensivão Python - Dia 1\r\n",
        "\r\n",
        "print('Manipulando dados e automatizando processos no Python')"
      ],
      "execution_count": null,
      "outputs": []
    },
    {
      "cell_type": "code",
      "metadata": {
        "id": "O_M79gsFnUYQ"
      },
      "source": [
        "#Importando a biblioteca pandas\r\n",
        "\r\n",
        "import pandas as pd"
      ],
      "execution_count": null,
      "outputs": []
    },
    {
      "cell_type": "code",
      "metadata": {
        "id": "ZX9__SVFX0K_"
      },
      "source": [
        "from google.colab import drive\n",
        "drive.mount('/content/drive')"
      ],
      "execution_count": null,
      "outputs": []
    },
    {
      "cell_type": "code",
      "metadata": {
        "id": "x0T597cLnllc"
      },
      "source": [
        "df = pd.read_excel(r'/content/drive/MyDrive/Colab Notebooks/vendas/Vendas.xlsx')\r\n",
        "df.head(3)"
      ],
      "execution_count": null,
      "outputs": []
    },
    {
      "cell_type": "code",
      "metadata": {
        "id": "gf6gr1CHsQB5"
      },
      "source": [
        "display(df)"
      ],
      "execution_count": null,
      "outputs": []
    },
    {
      "cell_type": "code",
      "metadata": {
        "id": "5SXxCqzOsVq3"
      },
      "source": [
        "#Calculando o faturamento por loja\r\n",
        "#Colunas: Código Venda\tData\tID Loja\tProduto\tQuantidade\tValor Unitário\tValor Final\r\n",
        "\r\n",
        "faturamento = df[['ID Loja', 'Valor Final']].groupby('ID Loja').sum()\r\n",
        "faturamento"
      ],
      "execution_count": null,
      "outputs": []
    },
    {
      "cell_type": "code",
      "metadata": {
        "id": "-kyyUBrgs7fU"
      },
      "source": [
        "#Ordenando por maior faturamento\r\n",
        "faturamento = faturamento.sort_values(by='Valor Final', ascending=False)\r\n",
        "faturamento"
      ],
      "execution_count": null,
      "outputs": []
    },
    {
      "cell_type": "code",
      "metadata": {
        "id": "lGxScwnCt_i9"
      },
      "source": [
        "#Calculando a quantidade vendida por loja\r\n",
        "#Colunas: Código Venda\tData\tID Loja\tProduto\tQuantidade\tValor Unitário\tValor Final\r\n",
        "\r\n",
        "#ordenei por loja com maior quantidade vendida\r\n",
        "\r\n",
        "quantidade = df[['ID Loja','Quantidade']].groupby('ID Loja').sum()\r\n",
        "quantidade = quantidade.sort_values(by='Quantidade', ascending=False)\r\n",
        "display(quantidade)"
      ],
      "execution_count": null,
      "outputs": []
    },
    {
      "cell_type": "code",
      "metadata": {
        "id": "T97tQ3S4vymu"
      },
      "source": [
        "#Obtendo o ticket médio das lojas\r\n",
        "ticket_medio = faturamento['Valor Final'] / quantidade['Quantidade']\r\n",
        "ticket_medio"
      ],
      "execution_count": null,
      "outputs": []
    },
    {
      "cell_type": "code",
      "metadata": {
        "id": "6l6-V9uqwP2k"
      },
      "source": [
        "#Obtendo o ticket médio das lojas\r\n",
        "#usar o to_frame() para uma apresentação melhor da tabela\r\n",
        "ticket_medio = (faturamento['Valor Final'] / quantidade['Quantidade']).to_frame()\r\n",
        "ticket_medio"
      ],
      "execution_count": null,
      "outputs": []
    },
    {
      "cell_type": "code",
      "metadata": {
        "id": "62sjJvK1wstt"
      },
      "source": [
        "#Obtendo o ticket médio das lojas\r\n",
        "#Atribuindo nome para a coluna (Ticket Médio) e ordenar por maior ticket médio.\r\n",
        "ticket_medio = (faturamento['Valor Final'] / quantidade['Quantidade']).to_frame()\r\n",
        "ticket_medio = ticket_medio.rename(columns={0: 'Ticket Médio'})\r\n",
        "ticket_medio"
      ],
      "execution_count": null,
      "outputs": []
    },
    {
      "cell_type": "code",
      "metadata": {
        "id": "dtn3p0TK72_0"
      },
      "source": [
        "\r\n",
        "\r\n",
        "#para enviar e-mail (automatizando processos)\r\n",
        "\r\n"
      ],
      "execution_count": null,
      "outputs": []
    },
    {
      "cell_type": "code",
      "metadata": {
        "id": "AYuBZ65K77bC"
      },
      "source": [
        "import smtplib\r\n",
        "import email.message"
      ],
      "execution_count": null,
      "outputs": []
    },
    {
      "cell_type": "code",
      "metadata": {
        "id": "v8CW-Kzp8VP7"
      },
      "source": [
        "def enviar_email(resumo_loja, loja):\r\n",
        "\r\n",
        "  server = smtplib.SMTP('smtp.gmail.com:587')  \r\n",
        "  corpo_email = f'''\r\n",
        "  <p>Olá tudo bem? Segue abaixo as informações:</p>\r\n",
        "  {resumo_loja.to_html()}\r\n",
        "  <p>Qualquer dúvida estou à disposição. Att.</p>'''\r\n",
        "    \r\n",
        "  msg = email.message.Message()\r\n",
        "  msg['Subject'] = f'Envio de relatórios - Loja: {loja}'\r\n",
        "    \r\n",
        "  # Fazer antes (apenas na 1ª vez): Ativar Aplicativos não Seguros.\r\n",
        "    # Gerenciar Conta Google -> Segurança -> Aplicativos não Seguros -> Habilitar\r\n",
        "  # Caso mesmo assim dê o erro: smtplib.SMTPAuthenticationError: (534,\r\n",
        "  # Você faz o login no seu e-mail e depois entra em: https://accounts.google.com/DisplayUnlockCaptcha\r\n",
        "  msg['From'] = 'email@emailtestestes.com'\r\n",
        "  msg['To'] = 'email1@emailtestestes.com'\r\n",
        "  password = \"#senha\"\r\n",
        "  msg.add_header('Content-Type', 'text/html')\r\n",
        "  msg.set_payload(corpo_email )\r\n",
        "    \r\n",
        "  s = smtplib.SMTP('smtp.gmail.com: 587')\r\n",
        "  s.starttls()\r\n",
        "  # Login Credentials for sending the mail\r\n",
        "  s.login(msg['From'], password)\r\n",
        "  s.sendmail(msg['From'], [msg['To']], msg.as_string().encode('utf-8'))\r\n",
        "  print('Email enviado')\r\n",
        "\r\n",
        "\r\n",
        "\r\n",
        "\r\n",
        "# email para diretoria\r\n",
        "\r\n",
        "tabela_diretoria = faturamento.join(quantidade).join(ticket_medio)\r\n",
        "enviar_email(tabela_diretoria, 'Todas as Lojas')"
      ],
      "execution_count": null,
      "outputs": []
    },
    {
      "cell_type": "code",
      "metadata": {
        "id": "3VDVhMDNdp0Q"
      },
      "source": [
        "#email para todas as lojas\r\n",
        "\r\n",
        "lojas = df['ID Loja'].unique()\r\n",
        "\r\n",
        "for loja in lojas:\r\n",
        "  tabela_loja = df.loc[df['ID Loja'] == loja, ['ID Loja', 'Quantidade', 'Valor Final']]\r\n",
        "  resumo_loja = tabela_loja.groupby('ID Loja').sum()\r\n",
        "  resumo_loja['Ticket Médio'] = resumo_loja['Valor Final'] / resumo_loja['Quantidade']\r\n",
        "  enviar_email(resumo_loja, loja)"
      ],
      "execution_count": null,
      "outputs": []
    }
  ]
}